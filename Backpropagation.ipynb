{
  "nbformat": 4,
  "nbformat_minor": 0,
  "metadata": {
    "colab": {
      "provenance": [],
      "mount_file_id": "1ELJLhxJxTk0VMiJGpq1rWnhoSz4C-S-v",
      "authorship_tag": "ABX9TyMiY4yYi6IRcuRxlS5/thvy",
      "include_colab_link": true
    },
    "kernelspec": {
      "name": "python3",
      "display_name": "Python 3"
    },
    "language_info": {
      "name": "python"
    }
  },
  "cells": [
    {
      "cell_type": "markdown",
      "metadata": {
        "id": "view-in-github",
        "colab_type": "text"
      },
      "source": [
        "<a href=\"https://colab.research.google.com/github/HungPham2002/backpropagation-in-neural-network/blob/main/Backpropagation.ipynb\" target=\"_parent\"><img src=\"https://colab.research.google.com/assets/colab-badge.svg\" alt=\"Open In Colab\"/></a>"
      ]
    },
    {
      "cell_type": "code",
      "execution_count": 1,
      "metadata": {
        "id": "iob1fQewJU5B"
      },
      "outputs": [],
      "source": [
        "import numpy as np\n",
        "import pandas as pd"
      ]
    },
    {
      "cell_type": "code",
      "source": [
        "# Hàm sigmoid\n",
        "def sigmoid(x):\n",
        "        return 1/(1+np.exp(-x))\n",
        "\n",
        "\n",
        "# Đạo hàm hàm sigmoid\n",
        "def sigmoid_derivative(x):\n",
        "        return x*(1-x)\n"
      ],
      "metadata": {
        "id": "aHAYuDORJb4T"
      },
      "execution_count": 2,
      "outputs": []
    },
    {
      "cell_type": "code",
      "source": [
        "# Lớp neural network\n",
        "class NeuralNetwork:\n",
        "    def __init__(self, layers, alpha=0.1):\n",
        "\t\t# Mô hình layer ví dụ [2,2,1]\n",
        "      self.layers = layers\n",
        "\n",
        "      # Hệ số learning rate\n",
        "      self.alpha = alpha\n",
        "\n",
        "      # Tham số W, b\n",
        "      self.W = []\n",
        "      self.b = []\n",
        "\n",
        "      # Khởi tạo các tham số ở mỗi layer\n",
        "      for i in range(0, len(layers)-1):\n",
        "            w_ = np.random.randn(layers[i], layers[i+1])\n",
        "            b_ = np.zeros((layers[i+1], 1))\n",
        "            self.W.append(w_/layers[i])\n",
        "            self.b.append(b_)\n",
        "\n",
        "\n",
        "\t# Tóm tắt mô hình neural network\n",
        "    def __repr__(self):\n",
        "        return \"Neural network [{}]\".format(\"-\".join(str(l) for l in self.layers))\n",
        "\n",
        "\n",
        "\t# Train mô hình với dữ liệu\n",
        "    def fit_partial(self, x, y):\n",
        "        A = [x]\n",
        "\n",
        "        # quá trình feedforward\n",
        "        out = A[-1]\n",
        "        for i in range(0, len(self.layers) - 1):\n",
        "            out = sigmoid(np.dot(out, self.W[i]) + (self.b[i].T))\n",
        "            A.append(out)\n",
        "\n",
        "        # quá trình backpropagation\n",
        "        y = y.reshape(-1, 1)\n",
        "        dA = [-(y/A[-1] - (1-y)/(1-A[-1]))]\n",
        "        dW = []\n",
        "        db = []\n",
        "        for i in reversed(range(0, len(self.layers)-1)):\n",
        "            dw_ = np.dot((A[i]).T, dA[-1] * sigmoid_derivative(A[i+1]))\n",
        "            db_ = (np.sum(dA[-1] * sigmoid_derivative(A[i+1]), 0)).reshape(-1,1)\n",
        "            dA_ = np.dot(dA[-1] * sigmoid_derivative(A[i+1]), self.W[i].T)\n",
        "            dW.append(dw_)\n",
        "            db.append(db_)\n",
        "            dA.append(dA_)\n",
        "\n",
        "        # Đảo ngược dW, db\n",
        "        dW = dW[::-1]\n",
        "        db = db[::-1]\n",
        "\n",
        "\t\t# Gradient descent\n",
        "        for i in range(0, len(self.layers)-1):\n",
        "            self.W[i] = self.W[i] - self.alpha * dW[i]\n",
        "            self.b[i] = self.b[i] - self.alpha * db[i]\n",
        "\n",
        "    def fit(self, X, y, epochs=20, verbose=10):\n",
        "        Loss = []\n",
        "        for epoch in range(0, epochs):\n",
        "            self.fit_partial(X, y)\n",
        "            if epoch % verbose == 0:\n",
        "                loss = self.calculate_loss(X, y)\n",
        "                Loss.append(loss)\n",
        "                print(\"Epoch {}, loss {}\".format(epoch, loss))\n",
        "        return Loss\n",
        "\n",
        "\t# Dự đoán\n",
        "    def predict(self, X):\n",
        "        for i in range(0, len(self.layers) - 1):\n",
        "            X = sigmoid(np.dot(X, self.W[i]) + (self.b[i].T))\n",
        "        return X\n",
        "\n",
        "\t# Tính loss function\n",
        "    def calculate_loss(self, X, y):\n",
        "        y_predict = self.predict(X)\n",
        "        #return np.sum((y_predict-y)**2)/2\n",
        "        return -(np.sum(y*np.log(y_predict) + (1-y)*np.log(1-y_predict)))"
      ],
      "metadata": {
        "id": "qXgiHAVPJb61"
      },
      "execution_count": 22,
      "outputs": []
    },
    {
      "cell_type": "markdown",
      "source": [
        "# Application"
      ],
      "metadata": {
        "id": "gAi9lmNxZ0sN"
      }
    },
    {
      "cell_type": "code",
      "source": [
        "%cd /content/drive/MyDrive/Colab_Notebooks/Basic Deep Learning\n",
        "# Load Data\n",
        "data  = pd.read_csv('dataset.csv').values"
      ],
      "metadata": {
        "colab": {
          "base_uri": "https://localhost:8080/"
        },
        "id": "zh52R4qUJb95",
        "outputId": "63655454-b3cd-4115-8bd5-872a17421259"
      },
      "execution_count": 4,
      "outputs": [
        {
          "output_type": "stream",
          "name": "stdout",
          "text": [
            "/content/drive/MyDrive/Colab_Notebooks/Basic Deep Learning\n"
          ]
        }
      ]
    },
    {
      "cell_type": "code",
      "source": [
        "N, d = data.shape\n",
        "x = data[:, 0:d-1].reshape(-1,d-1)\n",
        "y = data[:, 2].reshape(-1,1)"
      ],
      "metadata": {
        "id": "gqq0gCCuJcAt"
      },
      "execution_count": 5,
      "outputs": []
    },
    {
      "cell_type": "code",
      "source": [
        "print(x)\n",
        "print(y)"
      ],
      "metadata": {
        "colab": {
          "base_uri": "https://localhost:8080/"
        },
        "id": "h7QJBCUqact5",
        "outputId": "1779d39a-4f84-46cb-d01e-12bac11667b7"
      },
      "execution_count": 6,
      "outputs": [
        {
          "output_type": "stream",
          "name": "stdout",
          "text": [
            "[[10.    1.  ]\n",
            " [ 5.    2.  ]\n",
            " [ 6.    1.8 ]\n",
            " [ 7.    1.  ]\n",
            " [ 8.    2.  ]\n",
            " [ 9.    0.5 ]\n",
            " [ 4.    3.  ]\n",
            " [ 5.    2.5 ]\n",
            " [ 8.    1.  ]\n",
            " [ 4.    2.5 ]\n",
            " [ 8.    0.1 ]\n",
            " [ 7.    0.15]\n",
            " [ 4.    1.  ]\n",
            " [ 5.    0.8 ]\n",
            " [ 7.    0.3 ]\n",
            " [ 4.    1.  ]\n",
            " [ 5.    0.5 ]\n",
            " [ 6.    0.3 ]\n",
            " [ 7.    0.2 ]\n",
            " [ 8.    0.15]]\n",
            "[[1.]\n",
            " [1.]\n",
            " [1.]\n",
            " [1.]\n",
            " [1.]\n",
            " [1.]\n",
            " [1.]\n",
            " [1.]\n",
            " [1.]\n",
            " [1.]\n",
            " [0.]\n",
            " [0.]\n",
            " [0.]\n",
            " [0.]\n",
            " [0.]\n",
            " [0.]\n",
            " [0.]\n",
            " [0.]\n",
            " [0.]\n",
            " [0.]]\n"
          ]
        }
      ]
    },
    {
      "cell_type": "code",
      "source": [
        "import matplotlib.pyplot as plt\n",
        "\n",
        "# Visualize Data\n",
        "plt.scatter(x[:10, 0], x[:10, 1], c='red', edgecolors='none', s=30, label='cho vay')\n",
        "plt.scatter(x[10:, 0], x[10:, 1], c='blue', edgecolors='none', s=30, label='từ chối')\n",
        "plt.legend(loc=1)\n",
        "plt.xlabel('mức lương (triệu)')\n",
        "plt.ylabel('kinh nghiệm (năm)')"
      ],
      "metadata": {
        "colab": {
          "base_uri": "https://localhost:8080/",
          "height": 467
        },
        "id": "dQHpEp2vJcDp",
        "outputId": "41662e28-6b4f-4a24-a2e9-c79052085fe2"
      },
      "execution_count": 7,
      "outputs": [
        {
          "output_type": "execute_result",
          "data": {
            "text/plain": [
              "Text(0, 0.5, 'kinh nghiệm (năm)')"
            ]
          },
          "metadata": {},
          "execution_count": 7
        },
        {
          "output_type": "display_data",
          "data": {
            "text/plain": [
              "<Figure size 640x480 with 1 Axes>"
            ],
            "image/png": "[encoded data removed]"
          },
          "metadata": {}
        }
      ]
    },
    {
      "cell_type": "code",
      "source": [
        "# Khởi tạo mô hình Neural Network\n",
        "nn = NeuralNetwork(layers=[2, 2, 1], alpha=0.1)"
      ],
      "metadata": {
        "id": "zwm8skuyJcGk"
      },
      "execution_count": 23,
      "outputs": []
    },
    {
      "cell_type": "code",
      "source": [
        "print(nn)"
      ],
      "metadata": {
        "colab": {
          "base_uri": "https://localhost:8080/"
        },
        "id": "NkIsqvr4a9AS",
        "outputId": "55efec35-edfe-4e56-b3a4-b708d22d95e3"
      },
      "execution_count": 24,
      "outputs": [
        {
          "output_type": "stream",
          "name": "stdout",
          "text": [
            "Neural network [2-2-1]\n"
          ]
        }
      ]
    },
    {
      "cell_type": "code",
      "source": [
        "# Huấn luyện mô hình\n",
        "loss_history = nn.fit(x, y, epochs=10000, verbose=100)"
      ],
      "metadata": {
        "colab": {
          "base_uri": "https://localhost:8080/"
        },
        "id": "k-lM2gmVJcJX",
        "outputId": "89273103-eba4-4d2f-98e9-513cc568be9f"
      },
      "execution_count": 25,
      "outputs": [
        {
          "output_type": "stream",
          "name": "stdout",
          "text": [
            "Epoch 0, loss 13.712495059869408\n",
            "Epoch 100, loss 13.834448795410003\n",
            "Epoch 200, loss 7.5481591386878275\n",
            "Epoch 300, loss 13.8018708517368\n",
            "Epoch 400, loss 6.635325091577236\n",
            "Epoch 500, loss 8.538189792434462\n",
            "Epoch 600, loss 9.96576652134532\n",
            "Epoch 700, loss 4.119845023730727\n",
            "Epoch 800, loss 3.5301437883054154\n",
            "Epoch 900, loss 4.243838424842184\n",
            "Epoch 1000, loss 11.685553073510304\n",
            "Epoch 1100, loss 2.349356347039964\n",
            "Epoch 1200, loss 0.4670100611223457\n",
            "Epoch 1300, loss 0.2400104505788667\n",
            "Epoch 1400, loss 0.1609769343026173\n",
            "Epoch 1500, loss 0.1209907708141935\n",
            "Epoch 1600, loss 0.09688440636759225\n",
            "Epoch 1700, loss 0.08077629100704652\n",
            "Epoch 1800, loss 0.06925611460515999\n",
            "Epoch 1900, loss 0.060609718511866126\n",
            "Epoch 2000, loss 0.0538817648744902\n",
            "Epoch 2100, loss 0.048497885030151885\n",
            "Epoch 2200, loss 0.044092075112792645\n",
            "Epoch 2300, loss 0.04042010407011615\n",
            "Epoch 2400, loss 0.037312777100956165\n",
            "Epoch 2500, loss 0.034649183339684815\n",
            "Epoch 2600, loss 0.03234062408956422\n",
            "Epoch 2700, loss 0.030320558334712762\n",
            "Epoch 2800, loss 0.028538092111029378\n",
            "Epoch 2900, loss 0.026953635610457854\n",
            "Epoch 3000, loss 0.025535930397819685\n",
            "Epoch 3100, loss 0.024259967728122424\n",
            "Epoch 3200, loss 0.02310550121333559\n",
            "Epoch 3300, loss 0.022055964883265874\n",
            "Epoch 3400, loss 0.02109767334789711\n",
            "Epoch 3500, loss 0.020219221832645577\n",
            "Epoch 3600, loss 0.0194110301522668\n",
            "Epoch 3700, loss 0.018664991888809577\n",
            "Epoch 3800, loss 0.017974201509550022\n",
            "Epoch 3900, loss 0.01733273994675575\n",
            "Epoch 4000, loss 0.016735504532082893\n",
            "Epoch 4100, loss 0.01617807293889212\n",
            "Epoch 4200, loss 0.01565659345501311\n",
            "Epoch 4300, loss 0.01516769582726596\n",
            "Epoch 4400, loss 0.014708418314752097\n",
            "Epoch 4500, loss 0.014276147614282083\n",
            "Epoch 4600, loss 0.013868569083795013\n",
            "Epoch 4700, loss 0.01348362526159358\n",
            "Epoch 4800, loss 0.013119481112023936\n",
            "Epoch 4900, loss 0.012774494758604801\n",
            "Epoch 5000, loss 0.012447192719727598\n",
            "Epoch 5100, loss 0.012136248859002125\n",
            "Epoch 5200, loss 0.011840466416062555\n",
            "Epoch 5300, loss 0.011558762604433517\n",
            "Epoch 5400, loss 0.011290155358560938\n",
            "Epoch 5500, loss 0.011033751888097411\n",
            "Epoch 5600, loss 0.010788738758324005\n",
            "Epoch 5700, loss 0.010554373264448906\n",
            "Epoch 5800, loss 0.01032997590709232\n",
            "Epoch 5900, loss 0.010114923808357119\n",
            "Epoch 6000, loss 0.009908644934111387\n",
            "Epoch 6100, loss 0.009710613009620414\n",
            "Epoch 6200, loss 0.009520343033349258\n",
            "Epoch 6300, loss 0.00933738730841568\n",
            "Epoch 6400, loss 0.009161331923324599\n",
            "Epoch 6500, loss 0.008991793623737187\n",
            "Epoch 6600, loss 0.008828417025510057\n",
            "Epoch 6700, loss 0.00867087212634293\n",
            "Epoch 6800, loss 0.008518852079358104\n",
            "Epoch 6900, loss 0.008372071197010012\n",
            "Epoch 7000, loss 0.00823026315797573\n",
            "Epoch 7100, loss 0.00809317939337538\n",
            "Epoch 7200, loss 0.007960587631710217\n",
            "Epoch 7300, loss 0.007832270584621574\n",
            "Epoch 7400, loss 0.007708024757815829\n",
            "Epoch 7500, loss 0.0075876593734619194\n",
            "Epoch 7600, loss 0.007470995392058091\n",
            "Epoch 7700, loss 0.007357864623225017\n",
            "Epoch 7800, loss 0.007248108916121871\n",
            "Epoch 7900, loss 0.007141579421301131\n",
            "Epoch 8000, loss 0.00703813591674157\n",
            "Epoch 8100, loss 0.006937646191656719\n",
            "Epoch 8200, loss 0.0068399854823710275\n",
            "Epoch 8300, loss 0.006745035955200849\n",
            "Epoch 8400, loss 0.006652686231844439\n",
            "Epoch 8500, loss 0.006562830953250631\n",
            "Epoch 8600, loss 0.006475370378369824\n",
            "Epoch 8700, loss 0.00639021001459381\n",
            "Epoch 8800, loss 0.006307260276978173\n",
            "Epoch 8900, loss 0.006226436173688439\n",
            "Epoch 9000, loss 0.006147657015325905\n",
            "Epoch 9100, loss 0.006070846146061181\n",
            "Epoch 9200, loss 0.0059959306946755124\n",
            "Epoch 9300, loss 0.005922841343821749\n",
            "Epoch 9400, loss 0.005851512115963705\n",
            "Epoch 9500, loss 0.005781880174603278\n",
            "Epoch 9600, loss 0.005713885639540984\n",
            "Epoch 9700, loss 0.005647471415017262\n",
            "Epoch 9800, loss 0.005582583029713792\n",
            "Epoch 9900, loss 0.005519168487658722\n"
          ]
        }
      ]
    },
    {
      "cell_type": "code",
      "source": [
        "plt.plot(loss_history)\n",
        "plt.xlabel('Epoch')\n",
        "plt.ylabel('Loss')"
      ],
      "metadata": {
        "colab": {
          "base_uri": "https://localhost:8080/",
          "height": 466
        },
        "id": "UeSNHZXrJcMY",
        "outputId": "ab79f1f4-0814-45d4-a51a-6aaff462b6f5"
      },
      "execution_count": 26,
      "outputs": [
        {
          "output_type": "execute_result",
          "data": {
            "text/plain": [
              "Text(0, 0.5, 'Loss')"
            ]
          },
          "metadata": {},
          "execution_count": 26
        },
        {
          "output_type": "display_data",
          "data": {
            "text/plain": [
              "<Figure size 640x480 with 1 Axes>"
            ],
            "image/png": "[encoded data removed]"
          },
          "metadata": {}
        }
      ]
    },
    {
      "cell_type": "code",
      "source": [
        "new_data = np.array([[9, 1.5]])\n",
        "predicted_prob = nn.predict(new_data)\n",
        "print(\"Predicted Probability:\", predicted_prob)"
      ],
      "metadata": {
        "colab": {
          "base_uri": "https://localhost:8080/"
        },
        "id": "TWJMVJfZJcSQ",
        "outputId": "0859e15d-7c29-486b-a806-0cbf50731740"
      },
      "execution_count": 28,
      "outputs": [
        {
          "output_type": "stream",
          "name": "stdout",
          "text": [
            "Predicted Probability: [[0.99981363]]\n"
          ]
        }
      ]
    }
  ]
}